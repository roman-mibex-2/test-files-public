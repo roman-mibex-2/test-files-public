{
 "cells": [
  {
   "cell_type": "markdown",
   "id": "564115f8-9df1-4fb6-a4b6-31f6f8c21bc2",
   "metadata": {},
   "source": [
    "$$\n",
    "\\left\\{\n",
    "    \\begin{array}\\\\\n",
    "        w=\\alpha t,\\,\\theta=\\frac{\\alpha t^2}{2} - A & 0\\le t\\le t_1 \\\\\n",
    "        w=w_1=\\alpha t_1,\\,\\theta=\\alpha t_1\\left( t - \\frac{1}{4F}\\right) & t_1\\le t\\le t_2 \\\\\n",
    "        w=\\alpha \\left(\\frac{1}{2F}-t\\right),\\theta= -\\frac{\\alpha}{2}\\left(t-\\frac{1}{2F}\\right)^2 + A & t_2\\le t \\le \\frac{T}{2}\n",
    "    \\end{array}\n",
    "\\right.\n",
    "$$"
   ]
  },
  {
   "cell_type": "code",
   "execution_count": null,
   "id": "10896bd6-4ee1-4442-8cba-e283c6d33d8d",
   "metadata": {},
   "outputs": [],
   "source": []
  }
 ],
 "metadata": {
  "kernelspec": {
   "display_name": "Python 3 (ipykernel)",
   "language": "python",
   "name": "python3"
  },
  "language_info": {
   "codemirror_mode": {
    "name": "ipython",
    "version": 3
   },
   "file_extension": ".py",
   "mimetype": "text/x-python",
   "name": "python",
   "nbconvert_exporter": "python",
   "pygments_lexer": "ipython3",
   "version": "3.9.13"
  }
 },
 "nbformat": 4,
 "nbformat_minor": 5
}
